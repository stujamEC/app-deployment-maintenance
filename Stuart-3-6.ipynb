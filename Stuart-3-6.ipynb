{
 "cells": [
  {
   "cell_type": "code",
   "execution_count": 2,
   "metadata": {},
   "outputs": [
    {
     "ename": "SyntaxError",
     "evalue": "invalid syntax (<ipython-input-2-4e0e809689fb>, line 4)",
     "output_type": "error",
     "traceback": [
      "\u001b[0;36m  File \u001b[0;32m\"<ipython-input-2-4e0e809689fb>\"\u001b[0;36m, line \u001b[0;32m4\u001b[0m\n\u001b[0;31m    Import numpy as np\u001b[0m\n\u001b[0m               ^\u001b[0m\n\u001b[0;31mSyntaxError\u001b[0m\u001b[0;31m:\u001b[0m invalid syntax\n"
     ]
    }
   ],
   "source": [
    "# Load the training data and pre-process it\n",
    "\n",
    "import pandas as pd\n",
    "Import numpy as np\n",
    "\n",
    "np.random.seed(10) # Set a seed to make our results reproducible\n",
    "\n",
    "from process_data import pre_process_data\n",
    "X_train = pd.read_csv('german_credit_train.csv', sep=\",\")\n",
    "y_train = X_train['Creditability']\n",
    "X_train = pre_process_data(X_train)\n",
    "X_train = X_train.drop(columns=['Age (years)'])\n",
    "X_train['Creditability'] = ['Good' if x == 1 else 'Bad' for x in y_train] \n"
   ]
  },
  {
   "cell_type": "code",
   "execution_count": 3,
   "metadata": {},
   "outputs": [],
   "source": [
    "# Load the training data and pre-process it\n",
    "\n",
    "import pandas as pd\n",
    "import numpy as np\n",
    "\n",
    "np.random.seed(10) # Set a seed to make our results reproducible\n",
    "\n",
    "from process_data import pre_process_data\n",
    "X_train = pd.read_csv('german_credit_train.csv', sep=\",\")\n",
    "y_train = X_train['Creditability']\n",
    "X_train = pre_process_data(X_train)\n",
    "X_train = X_train.drop(columns=['Age (years)'])\n",
    "X_train['Creditability'] = ['Good' if x == 1 else 'Bad' for x in y_train] \n",
    "\n"
   ]
  },
  {
   "cell_type": "code",
   "execution_count": 4,
   "metadata": {},
   "outputs": [
    {
     "data": {
      "text/plain": [
       "(600, 11)"
      ]
     },
     "execution_count": 4,
     "metadata": {},
     "output_type": "execute_result"
    }
   ],
   "source": [
    "X_train.shape\n"
   ]
  },
  {
   "cell_type": "code",
   "execution_count": 5,
   "metadata": {},
   "outputs": [
    {
     "data": {
      "text/html": [
       "<div>\n",
       "<style scoped>\n",
       "    .dataframe tbody tr th:only-of-type {\n",
       "        vertical-align: middle;\n",
       "    }\n",
       "\n",
       "    .dataframe tbody tr th {\n",
       "        vertical-align: top;\n",
       "    }\n",
       "\n",
       "    .dataframe thead th {\n",
       "        text-align: right;\n",
       "    }\n",
       "</style>\n",
       "<table border=\"1\" class=\"dataframe\">\n",
       "  <thead>\n",
       "    <tr style=\"text-align: right;\">\n",
       "      <th></th>\n",
       "      <th>Account Balance</th>\n",
       "      <th>Payment Status</th>\n",
       "      <th>Savings/Stock Value</th>\n",
       "      <th>Employment Length</th>\n",
       "      <th>Sex &amp; Marital Status</th>\n",
       "      <th>NumberCredits</th>\n",
       "      <th>Guarantors</th>\n",
       "      <th>Concurrent Credits</th>\n",
       "      <th>Purpose</th>\n",
       "      <th>AgeGroups</th>\n",
       "      <th>Creditability</th>\n",
       "    </tr>\n",
       "  </thead>\n",
       "  <tbody>\n",
       "    <tr>\n",
       "      <th>0</th>\n",
       "      <td>SomeBalance</td>\n",
       "      <td>NoProblem</td>\n",
       "      <td>NoSavings</td>\n",
       "      <td>OneToFour</td>\n",
       "      <td>MaleSingle</td>\n",
       "      <td>OnePlus</td>\n",
       "      <td>No</td>\n",
       "      <td>NoCredit</td>\n",
       "      <td>UsedCar</td>\n",
       "      <td>MidAgeAdult</td>\n",
       "      <td>Good</td>\n",
       "    </tr>\n",
       "    <tr>\n",
       "      <th>1</th>\n",
       "      <td>SomeBalance</td>\n",
       "      <td>NoProblem</td>\n",
       "      <td>NoSavings</td>\n",
       "      <td>AboveSevent</td>\n",
       "      <td>MaleMarried</td>\n",
       "      <td>One</td>\n",
       "      <td>No</td>\n",
       "      <td>NoCredit</td>\n",
       "      <td>HouseRelated</td>\n",
       "      <td>MidAgeAdult</td>\n",
       "      <td>Good</td>\n",
       "    </tr>\n",
       "    <tr>\n",
       "      <th>2</th>\n",
       "      <td>NoBalance</td>\n",
       "      <td>NoProblem</td>\n",
       "      <td>NoSavings</td>\n",
       "      <td>BellowOneYear</td>\n",
       "      <td>MaleMarried</td>\n",
       "      <td>OnePlus</td>\n",
       "      <td>No</td>\n",
       "      <td>NoCredit</td>\n",
       "      <td>NewCar</td>\n",
       "      <td>MidAgeAdult</td>\n",
       "      <td>Good</td>\n",
       "    </tr>\n",
       "    <tr>\n",
       "      <th>3</th>\n",
       "      <td>NoBalance</td>\n",
       "      <td>NoProblem</td>\n",
       "      <td>BellowHundred</td>\n",
       "      <td>FourToSevent</td>\n",
       "      <td>MaleMarried</td>\n",
       "      <td>One</td>\n",
       "      <td>No</td>\n",
       "      <td>NoCredit</td>\n",
       "      <td>Other</td>\n",
       "      <td>MidAgeAdult</td>\n",
       "      <td>Good</td>\n",
       "    </tr>\n",
       "    <tr>\n",
       "      <th>4</th>\n",
       "      <td>SomeBalance</td>\n",
       "      <td>NoProblem</td>\n",
       "      <td>NoSavings</td>\n",
       "      <td>OneToFour</td>\n",
       "      <td>MaleMarried</td>\n",
       "      <td>One</td>\n",
       "      <td>No</td>\n",
       "      <td>NoCredit</td>\n",
       "      <td>HouseRelated</td>\n",
       "      <td>Young</td>\n",
       "      <td>Good</td>\n",
       "    </tr>\n",
       "  </tbody>\n",
       "</table>\n",
       "</div>"
      ],
      "text/plain": [
       "  Account Balance Payment Status Savings/Stock Value Employment Length  \\\n",
       "0     SomeBalance      NoProblem           NoSavings         OneToFour   \n",
       "1     SomeBalance      NoProblem           NoSavings       AboveSevent   \n",
       "2       NoBalance      NoProblem           NoSavings     BellowOneYear   \n",
       "3       NoBalance      NoProblem       BellowHundred      FourToSevent   \n",
       "4     SomeBalance      NoProblem           NoSavings         OneToFour   \n",
       "\n",
       "  Sex & Marital Status NumberCredits Guarantors Concurrent Credits  \\\n",
       "0           MaleSingle       OnePlus         No           NoCredit   \n",
       "1          MaleMarried           One         No           NoCredit   \n",
       "2          MaleMarried       OnePlus         No           NoCredit   \n",
       "3          MaleMarried           One         No           NoCredit   \n",
       "4          MaleMarried           One         No           NoCredit   \n",
       "\n",
       "        Purpose    AgeGroups Creditability  \n",
       "0       UsedCar  MidAgeAdult          Good  \n",
       "1  HouseRelated  MidAgeAdult          Good  \n",
       "2        NewCar  MidAgeAdult          Good  \n",
       "3         Other  MidAgeAdult          Good  \n",
       "4  HouseRelated        Young          Good  "
      ]
     },
     "execution_count": 5,
     "metadata": {},
     "output_type": "execute_result"
    }
   ],
   "source": [
    "X_train.head()\n"
   ]
  },
  {
   "cell_type": "code",
   "execution_count": 6,
   "metadata": {},
   "outputs": [
    {
     "data": {
      "text/plain": [
       "(array([0, 1, 2]),\n",
       " [Text(0, 0, 'MaleMarried'), Text(1, 0, 'MaleSingle'), Text(2, 0, 'Female')])"
      ]
     },
     "execution_count": 6,
     "metadata": {},
     "output_type": "execute_result"
    },
    {
     "data": {
      "image/png": "[encoded data removed]",
      "text/plain": [
       "<Figure size 432x288 with 1 Axes>"
      ]
     },
     "metadata": {
      "needs_background": "light"
     },
     "output_type": "display_data"
    }
   ],
   "source": [
    "import matplotlib.pyplot as plt\n",
    "X_train['Sex & Marital Status'].value_counts().plot(kind='bar', title=\"Marital status of applicants\", )\n",
    "plt.ylabel('Count')\n",
    "plt.xlabel('Sex & Marital Status')\n",
    "plt.xticks(rotation=0)"
   ]
  },
  {
   "cell_type": "code",
   "execution_count": 7,
   "metadata": {},
   "outputs": [
    {
     "data": {
      "text/plain": [
       "(array([0, 1]), [Text(0, 0, 'Good'), Text(1, 0, 'Bad')])"
      ]
     },
     "execution_count": 7,
     "metadata": {},
     "output_type": "execute_result"
    },
    {
     "data": {
      "image/png": "[encoded data removed]",
      "text/plain": [
       "<Figure size 432x288 with 1 Axes>"
      ]
     },
     "metadata": {
      "needs_background": "light"
     },
     "output_type": "display_data"
    }
   ],
   "source": [
    "X_train['Creditability'].value_counts().plot(kind='bar', title=\"Distribution of Creditability\", )\n",
    "plt.ylabel('Count')\n",
    "plt.xlabel('Creditability')\n",
    "plt.xticks(rotation=0)"
   ]
  },
  {
   "cell_type": "code",
   "execution_count": 8,
   "metadata": {},
   "outputs": [
    {
     "data": {
      "image/png": "[encoded data removed]",
      "text/plain": [
       "<Figure size 576x432 with 1 Axes>"
      ]
     },
     "metadata": {
      "needs_background": "light"
     },
     "output_type": "display_data"
    }
   ],
   "source": [
    "from process_data import plot_marginal_distribution\n",
    "plot_marginal_distribution(X_train, \n",
    "                           var1='AgeGroups', \n",
    "                           var2='Creditability', \n",
    "                           title='Distribution of credit risk per age groups')"
   ]
  },
  {
   "cell_type": "code",
   "execution_count": 10,
   "metadata": {},
   "outputs": [],
   "source": [
    "X_train = pd.read_csv('german_credit_train.csv', sep=\",\")\n",
    "X_test = pd.read_csv('german_credit_test.csv', sep=\",\")\n",
    "\n",
    "y_train = X_train['Creditability']\n",
    "y_test = X_test['Creditability']\n"
   ]
  },
  {
   "cell_type": "code",
   "execution_count": 11,
   "metadata": {},
   "outputs": [],
   "source": [
    "# Preprocess the data set\n",
    "X_train = pre_process_data(X_train)\n",
    "# Drop the 'Age (years) column'\n",
    "X_train = X_train.drop(columns=['Age (years)'])\n"
   ]
  },
  {
   "cell_type": "code",
   "execution_count": 12,
   "metadata": {},
   "outputs": [],
   "source": [
    "from sklearn.feature_extraction import DictVectorizer\n",
    "\n",
    "# Create dummy variables using the DictVectorizer class \n",
    "\n",
    "dv = DictVectorizer(sparse=False)\n",
    "dv = dv.fit(X_train.to_dict('records'))\n",
    "\n",
    "\n",
    "dummy_train = dv.transform(X_train.to_dict('records'))\n",
    "\n",
    "cols = dv.get_feature_names()\n"
   ]
  },
  {
   "cell_type": "code",
   "execution_count": 13,
   "metadata": {},
   "outputs": [],
   "source": [
    "# transform returns a NumPy array, which is difficult to visualise so,\n",
    "# Convert the data back to data frame\n",
    "\n",
    "dummy_train = pd.DataFrame(dummy_train, index=X_train.index, columns=cols)\n",
    "\n",
    "new_cols = {}\n",
    "\n",
    "for key in cols:\n",
    "    new_cols[key] = key.replace('=', '_')\n",
    "\n",
    "dummy_train = dummy_train.rename(columns=new_cols)\n"
   ]
  },
  {
   "cell_type": "code",
   "execution_count": 14,
   "metadata": {},
   "outputs": [
    {
     "data": {
      "text/html": [
       "<div>\n",
       "<style scoped>\n",
       "    .dataframe tbody tr th:only-of-type {\n",
       "        vertical-align: middle;\n",
       "    }\n",
       "\n",
       "    .dataframe tbody tr th {\n",
       "        vertical-align: top;\n",
       "    }\n",
       "\n",
       "    .dataframe thead th {\n",
       "        text-align: right;\n",
       "    }\n",
       "</style>\n",
       "<table border=\"1\" class=\"dataframe\">\n",
       "  <thead>\n",
       "    <tr style=\"text-align: right;\">\n",
       "      <th></th>\n",
       "      <th>Account Balance_NoAccount</th>\n",
       "      <th>Account Balance_NoBalance</th>\n",
       "      <th>Account Balance_SomeBalance</th>\n",
       "      <th>AgeGroups_MidAgeAdult</th>\n",
       "      <th>AgeGroups_OldAdult</th>\n",
       "      <th>AgeGroups_Senior</th>\n",
       "      <th>AgeGroups_Young</th>\n",
       "      <th>Concurrent Credits_NoCredit</th>\n",
       "      <th>Concurrent Credits_OtherBanks</th>\n",
       "      <th>Employment Length_AboveSevent</th>\n",
       "      <th>...</th>\n",
       "      <th>Purpose_NewCar</th>\n",
       "      <th>Purpose_Other</th>\n",
       "      <th>Purpose_UsedCar</th>\n",
       "      <th>Savings/Stock Value_AboveThousand</th>\n",
       "      <th>Savings/Stock Value_BellowHundred</th>\n",
       "      <th>Savings/Stock Value_NoSavings</th>\n",
       "      <th>Savings/Stock Value_Other</th>\n",
       "      <th>Sex &amp; Marital Status_Female</th>\n",
       "      <th>Sex &amp; Marital Status_MaleMarried</th>\n",
       "      <th>Sex &amp; Marital Status_MaleSingle</th>\n",
       "    </tr>\n",
       "  </thead>\n",
       "  <tbody>\n",
       "    <tr>\n",
       "      <th>0</th>\n",
       "      <td>0.0</td>\n",
       "      <td>0.0</td>\n",
       "      <td>1.0</td>\n",
       "      <td>1.0</td>\n",
       "      <td>0.0</td>\n",
       "      <td>0.0</td>\n",
       "      <td>0.0</td>\n",
       "      <td>1.0</td>\n",
       "      <td>0.0</td>\n",
       "      <td>0.0</td>\n",
       "      <td>...</td>\n",
       "      <td>0.0</td>\n",
       "      <td>0.0</td>\n",
       "      <td>1.0</td>\n",
       "      <td>0.0</td>\n",
       "      <td>0.0</td>\n",
       "      <td>1.0</td>\n",
       "      <td>0.0</td>\n",
       "      <td>0.0</td>\n",
       "      <td>0.0</td>\n",
       "      <td>1.0</td>\n",
       "    </tr>\n",
       "    <tr>\n",
       "      <th>1</th>\n",
       "      <td>0.0</td>\n",
       "      <td>0.0</td>\n",
       "      <td>1.0</td>\n",
       "      <td>1.0</td>\n",
       "      <td>0.0</td>\n",
       "      <td>0.0</td>\n",
       "      <td>0.0</td>\n",
       "      <td>1.0</td>\n",
       "      <td>0.0</td>\n",
       "      <td>1.0</td>\n",
       "      <td>...</td>\n",
       "      <td>0.0</td>\n",
       "      <td>0.0</td>\n",
       "      <td>0.0</td>\n",
       "      <td>0.0</td>\n",
       "      <td>0.0</td>\n",
       "      <td>1.0</td>\n",
       "      <td>0.0</td>\n",
       "      <td>0.0</td>\n",
       "      <td>1.0</td>\n",
       "      <td>0.0</td>\n",
       "    </tr>\n",
       "    <tr>\n",
       "      <th>2</th>\n",
       "      <td>0.0</td>\n",
       "      <td>1.0</td>\n",
       "      <td>0.0</td>\n",
       "      <td>1.0</td>\n",
       "      <td>0.0</td>\n",
       "      <td>0.0</td>\n",
       "      <td>0.0</td>\n",
       "      <td>1.0</td>\n",
       "      <td>0.0</td>\n",
       "      <td>0.0</td>\n",
       "      <td>...</td>\n",
       "      <td>1.0</td>\n",
       "      <td>0.0</td>\n",
       "      <td>0.0</td>\n",
       "      <td>0.0</td>\n",
       "      <td>0.0</td>\n",
       "      <td>1.0</td>\n",
       "      <td>0.0</td>\n",
       "      <td>0.0</td>\n",
       "      <td>1.0</td>\n",
       "      <td>0.0</td>\n",
       "    </tr>\n",
       "    <tr>\n",
       "      <th>3</th>\n",
       "      <td>0.0</td>\n",
       "      <td>1.0</td>\n",
       "      <td>0.0</td>\n",
       "      <td>1.0</td>\n",
       "      <td>0.0</td>\n",
       "      <td>0.0</td>\n",
       "      <td>0.0</td>\n",
       "      <td>1.0</td>\n",
       "      <td>0.0</td>\n",
       "      <td>0.0</td>\n",
       "      <td>...</td>\n",
       "      <td>0.0</td>\n",
       "      <td>1.0</td>\n",
       "      <td>0.0</td>\n",
       "      <td>0.0</td>\n",
       "      <td>1.0</td>\n",
       "      <td>0.0</td>\n",
       "      <td>0.0</td>\n",
       "      <td>0.0</td>\n",
       "      <td>1.0</td>\n",
       "      <td>0.0</td>\n",
       "    </tr>\n",
       "    <tr>\n",
       "      <th>4</th>\n",
       "      <td>0.0</td>\n",
       "      <td>0.0</td>\n",
       "      <td>1.0</td>\n",
       "      <td>0.0</td>\n",
       "      <td>0.0</td>\n",
       "      <td>0.0</td>\n",
       "      <td>1.0</td>\n",
       "      <td>1.0</td>\n",
       "      <td>0.0</td>\n",
       "      <td>0.0</td>\n",
       "      <td>...</td>\n",
       "      <td>0.0</td>\n",
       "      <td>0.0</td>\n",
       "      <td>0.0</td>\n",
       "      <td>0.0</td>\n",
       "      <td>0.0</td>\n",
       "      <td>1.0</td>\n",
       "      <td>0.0</td>\n",
       "      <td>0.0</td>\n",
       "      <td>1.0</td>\n",
       "      <td>0.0</td>\n",
       "    </tr>\n",
       "  </tbody>\n",
       "</table>\n",
       "<p>5 rows × 30 columns</p>\n",
       "</div>"
      ],
      "text/plain": [
       "   Account Balance_NoAccount  Account Balance_NoBalance  \\\n",
       "0                        0.0                        0.0   \n",
       "1                        0.0                        0.0   \n",
       "2                        0.0                        1.0   \n",
       "3                        0.0                        1.0   \n",
       "4                        0.0                        0.0   \n",
       "\n",
       "   Account Balance_SomeBalance  AgeGroups_MidAgeAdult  AgeGroups_OldAdult  \\\n",
       "0                          1.0                    1.0                 0.0   \n",
       "1                          1.0                    1.0                 0.0   \n",
       "2                          0.0                    1.0                 0.0   \n",
       "3                          0.0                    1.0                 0.0   \n",
       "4                          1.0                    0.0                 0.0   \n",
       "\n",
       "   AgeGroups_Senior  AgeGroups_Young  Concurrent Credits_NoCredit  \\\n",
       "0               0.0              0.0                          1.0   \n",
       "1               0.0              0.0                          1.0   \n",
       "2               0.0              0.0                          1.0   \n",
       "3               0.0              0.0                          1.0   \n",
       "4               0.0              1.0                          1.0   \n",
       "\n",
       "   Concurrent Credits_OtherBanks  Employment Length_AboveSevent  ...  \\\n",
       "0                            0.0                            0.0  ...   \n",
       "1                            0.0                            1.0  ...   \n",
       "2                            0.0                            0.0  ...   \n",
       "3                            0.0                            0.0  ...   \n",
       "4                            0.0                            0.0  ...   \n",
       "\n",
       "   Purpose_NewCar  Purpose_Other  Purpose_UsedCar  \\\n",
       "0             0.0            0.0              1.0   \n",
       "1             0.0            0.0              0.0   \n",
       "2             1.0            0.0              0.0   \n",
       "3             0.0            1.0              0.0   \n",
       "4             0.0            0.0              0.0   \n",
       "\n",
       "   Savings/Stock Value_AboveThousand  Savings/Stock Value_BellowHundred  \\\n",
       "0                                0.0                                0.0   \n",
       "1                                0.0                                0.0   \n",
       "2                                0.0                                0.0   \n",
       "3                                0.0                                1.0   \n",
       "4                                0.0                                0.0   \n",
       "\n",
       "   Savings/Stock Value_NoSavings  Savings/Stock Value_Other  \\\n",
       "0                            1.0                        0.0   \n",
       "1                            1.0                        0.0   \n",
       "2                            1.0                        0.0   \n",
       "3                            0.0                        0.0   \n",
       "4                            1.0                        0.0   \n",
       "\n",
       "   Sex & Marital Status_Female  Sex & Marital Status_MaleMarried  \\\n",
       "0                          0.0                               0.0   \n",
       "1                          0.0                               1.0   \n",
       "2                          0.0                               1.0   \n",
       "3                          0.0                               1.0   \n",
       "4                          0.0                               1.0   \n",
       "\n",
       "   Sex & Marital Status_MaleSingle  \n",
       "0                              1.0  \n",
       "1                              0.0  \n",
       "2                              0.0  \n",
       "3                              0.0  \n",
       "4                              0.0  \n",
       "\n",
       "[5 rows x 30 columns]"
      ]
     },
     "execution_count": 14,
     "metadata": {},
     "output_type": "execute_result"
    }
   ],
   "source": [
    "dummy_train.head() "
   ]
  },
  {
   "cell_type": "code",
   "execution_count": 16,
   "metadata": {},
   "outputs": [],
   "source": [
    "# Training the model\n",
    "from sklearn.linear_model import LogisticRegression\n",
    "from sklearn.preprocessing import StandardScaler\n",
    "\n",
    "# Scale the training data using the standard scaler\n",
    "data_scaler = StandardScaler()\n",
    "dummy_train = data_scaler.fit_transform(dummy_train)\n",
    "\n",
    "# Create a classifier and fit the model\n",
    "classifier = LogisticRegression(random_state=12, class_weight='balanced')\n",
    "\n",
    "\n",
    "# Train the algorithm on the training data\n",
    "classifier = classifier.fit(dummy_train, y_train)"
   ]
  },
  {
   "cell_type": "code",
   "execution_count": 17,
   "metadata": {},
   "outputs": [],
   "source": [
    "# Preparing test data\n",
    "\n",
    "X_test = pre_process_data(X_test)\n",
    "X_test = X_test.drop(columns=['Age (years)'])\n",
    "# transform the test set to dummy variables \n",
    "dummy_test = dv.transform(X_test.to_dict('records'))\n",
    "cols = dv.get_feature_names()\n",
    "\n",
    "# Convert the data back to data frame\n",
    "dummy_test = pd.DataFrame(dummy_test, index=X_test.index, columns=cols)\n",
    "new_cols = {}\n",
    "for key in cols:\n",
    "    new_cols[key] = key.replace('=', '_')\n",
    "\n",
    "dummy_test = dummy_test.rename(columns=new_cols)\n",
    "\n",
    "# Getting the predictions from the test data\n",
    "\n",
    "y_preds = classifier.predict(data_scaler.transform(dummy_test))\n"
   ]
  },
  {
   "cell_type": "code",
   "execution_count": 18,
   "metadata": {},
   "outputs": [
    {
     "name": "stdout",
     "output_type": "stream",
     "text": [
      "[[190  86]\n",
      " [ 35  89]]\n",
      "#### Model's accuracy:  0.70\n"
     ]
    },
    {
     "data": {
      "image/png": "[encoded data removed]",
      "text/plain": [
       "<Figure size 432x288 with 2 Axes>"
      ]
     },
     "metadata": {
      "needs_background": "light"
     },
     "output_type": "display_data"
    }
   ],
   "source": [
    "from sklearn.metrics import plot_confusion_matrix, confusion_matrix\n",
    "conf_matrix = confusion_matrix(y_test, y_preds, labels=[1, 0])\n",
    "\n",
    "print(conf_matrix)\n",
    "\n",
    "print(\"#### Model's accuracy:  {:.2f}\".format(classifier.score(data_scaler.transform(dummy_test), y_test)))\n",
    "\n",
    "class_names = ['Good', 'Bad']\n",
    "disp = plot_confusion_matrix(classifier, data_scaler.transform(dummy_test), \n",
    "                             y_test, display_labels=class_names, \n",
    "                             cmap=plt.cm.Oranges, \n",
    "                             normalize=None, values_format='.0f', labels=[1, 0])\n"
   ]
  },
  {
   "cell_type": "code",
   "execution_count": 19,
   "metadata": {},
   "outputs": [],
   "source": [
    "import pickle\n"
   ]
  },
  {
   "cell_type": "code",
   "execution_count": 22,
   "metadata": {},
   "outputs": [],
   "source": [
    "with open('./webservice/static/credit_model.pkl', 'wb') as stream:pickle.dump(classifier, stream)\n",
    "\n"
   ]
  },
  {
   "cell_type": "code",
   "execution_count": 23,
   "metadata": {},
   "outputs": [],
   "source": [
    "with open('./webservice/static/data_scaler.pkl', 'wb') as stream:\n",
    "    pickle.dump(data_scaler, stream)\n"
   ]
  },
  {
   "cell_type": "code",
   "execution_count": 24,
   "metadata": {},
   "outputs": [],
   "source": [
    "with open('./webservice/static/dict_vectorizer.pkl', 'wb') as stream:\n",
    "    pickle.dump(dv, stream)\n"
   ]
  },
  {
   "cell_type": "code",
   "execution_count": 25,
   "metadata": {},
   "outputs": [
    {
     "name": "stdout",
     "output_type": "stream",
     "text": [
      "Requirement already satisfied: scikit-learn==0.23.1 in /Users/Stuart/opt/anaconda3/lib/python3.8/site-packages (0.23.1)\r\n",
      "Requirement already satisfied: numpy>=1.13.3 in /Users/Stuart/opt/anaconda3/lib/python3.8/site-packages (from scikit-learn==0.23.1) (1.18.5)\r\n",
      "Requirement already satisfied: scipy>=0.19.1 in /Users/Stuart/opt/anaconda3/lib/python3.8/site-packages (from scikit-learn==0.23.1) (1.5.0)\r\n",
      "Requirement already satisfied: threadpoolctl>=2.0.0 in /Users/Stuart/opt/anaconda3/lib/python3.8/site-packages (from scikit-learn==0.23.1) (2.1.0)\r\n",
      "Requirement already satisfied: joblib>=0.11 in /Users/Stuart/opt/anaconda3/lib/python3.8/site-packages (from scikit-learn==0.23.1) (0.16.0)\r\n"
     ]
    }
   ],
   "source": [
    "!pip install scikit-learn==0.23.1\n"
   ]
  },
  {
   "cell_type": "code",
   "execution_count": 26,
   "metadata": {},
   "outputs": [
    {
     "name": "stdout",
     "output_type": "stream",
     "text": [
      "\u001b[31mERROR: Could not find a version that satisfies the requirement pywin32 (from versions: none)\u001b[0m\r\n",
      "\u001b[31mERROR: No matching distribution found for pywin32\u001b[0m\r\n"
     ]
    }
   ],
   "source": [
    "!pip install pywin32\n"
   ]
  },
  {
   "cell_type": "code",
   "execution_count": null,
   "metadata": {},
   "outputs": [],
   "source": []
  }
 ],
 "metadata": {
  "kernelspec": {
   "display_name": "Python 3",
   "language": "python",
   "name": "python3"
  },
  "language_info": {
   "codemirror_mode": {
    "name": "ipython",
    "version": 3
   },
   "file_extension": ".py",
   "mimetype": "text/x-python",
   "name": "python",
   "nbconvert_exporter": "python",
   "pygments_lexer": "ipython3",
   "version": "3.6.12"
  }
 },
 "nbformat": 4,
 "nbformat_minor": 4
}
